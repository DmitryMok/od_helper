{
  "nbformat": 4,
  "nbformat_minor": 0,
  "metadata": {
    "colab": {
      "provenance": [],
      "collapsed_sections": [],
      "authorship_tag": "ABX9TyPtJhCLa53GKYm/f4rvNFNd",
      "include_colab_link": true
    },
    "kernelspec": {
      "name": "python3",
      "display_name": "Python 3"
    },
    "language_info": {
      "name": "python"
    }
  },
  "cells": [
    {
      "cell_type": "markdown",
      "metadata": {
        "id": "view-in-github",
        "colab_type": "text"
      },
      "source": [
        "<a href=\"https://colab.research.google.com/github/DmitryMok/od_helper/blob/main/prepare_for_od.ipynb\" target=\"_parent\"><img src=\"https://colab.research.google.com/assets/colab-badge.svg\" alt=\"Open In Colab\"/></a>"
      ]
    },
    {
      "cell_type": "markdown",
      "source": [
        "# Модуль для анализа и конвертации датасета изображения\n",
        "\n",
        "1. Анализ датасета (размеры и ориентация изображений)\n",
        "2. Анализ аннотаций (наличие аннотаций для всех изображений)\n",
        "3. Конвертация в формат yolo\n",
        "4. Фильтрация изображений (по размерам, количеству изображений и т.п.)"
      ],
      "metadata": {
        "id": "-Ou6Nahnxln3"
      }
    },
    {
      "cell_type": "markdown",
      "source": [
        "## Анализ датасета"
      ],
      "metadata": {
        "id": "vOcOWTE6yHOg"
      }
    },
    {
      "cell_type": "code",
      "source": [
        "import os"
      ],
      "metadata": {
        "id": "4HQwLygUzXBo"
      },
      "execution_count": 1,
      "outputs": []
    },
    {
      "cell_type": "code",
      "source": [
        "DIR_IMG = '/content/sample_data'    # путь в папке с изображениями\n",
        "DIR_LAB = ''  # путь к папке с аннотациями\n"
      ],
      "metadata": {
        "id": "-i0g38WIyG0e"
      },
      "execution_count": 2,
      "outputs": []
    },
    {
      "cell_type": "code",
      "execution_count": 3,
      "metadata": {
        "id": "NCLMQM4Mxf_L"
      },
      "outputs": [],
      "source": [
        "def check_dir(dir_img=DIR_IMG):\n",
        "  print(os.listdir(dir_img))"
      ]
    },
    {
      "cell_type": "code",
      "source": [
        "# check_dir()"
      ],
      "metadata": {
        "colab": {
          "base_uri": "https://localhost:8080/"
        },
        "id": "N5oBes0kzsW5",
        "outputId": "ea960f7c-d0c9-49b4-ab15-2df681a1bb6b"
      },
      "execution_count": 4,
      "outputs": [
        {
          "output_type": "stream",
          "name": "stdout",
          "text": [
            "['README.md', 'anscombe.json', 'california_housing_train.csv', 'mnist_test.csv', 'mnist_train_small.csv', 'california_housing_test.csv']\n"
          ]
        }
      ]
    }
  ]
}