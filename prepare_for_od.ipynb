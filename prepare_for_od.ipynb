{
  "nbformat": 4,
  "nbformat_minor": 0,
  "metadata": {
    "colab": {
      "provenance": [],
      "mount_file_id": "1Ht0YDTNe7xepAtKe631rlqEjXGqs9NlL",
      "authorship_tag": "ABX9TyPqqHk/UFE9/xiWnEDMG3xN",
      "include_colab_link": true
    },
    "kernelspec": {
      "name": "python3",
      "display_name": "Python 3"
    },
    "language_info": {
      "name": "python"
    }
  },
  "cells": [
    {
      "cell_type": "markdown",
      "metadata": {
        "id": "view-in-github",
        "colab_type": "text"
      },
      "source": [
        "<a href=\"https://colab.research.google.com/github/DmitryMok/od_helper/blob/main/prepare_for_od.ipynb\" target=\"_parent\"><img src=\"https://colab.research.google.com/assets/colab-badge.svg\" alt=\"Open In Colab\"/></a>"
      ]
    },
    {
      "cell_type": "markdown",
      "source": [
        "# Модуль для анализа и конвертации датасета изображения\n",
        "\n",
        "1. Анализ датасета (размеры и ориентация изображений)\n",
        "2. Анализ аннотаций (наличие аннотаций для всех изображений)\n",
        "3. Конвертация в формат yolo\n",
        "4. Фильтрация изображений (по размерам, количеству изображений и т.п.)"
      ],
      "metadata": {
        "id": "-Ou6Nahnxln3"
      }
    },
    {
      "cell_type": "markdown",
      "source": [
        "# Анализ датасета"
      ],
      "metadata": {
        "id": "vOcOWTE6yHOg"
      }
    },
    {
      "cell_type": "code",
      "source": [
        "!git clone https://github.com/DmitryMok/wine_helper # вспомогательные функции\n",
        "from wine_helper.prepare_data_helper import *"
      ],
      "metadata": {
        "colab": {
          "base_uri": "https://localhost:8080/"
        },
        "id": "hPzPy4be58mq",
        "outputId": "b3f4b7d1-2f40-4dfa-e339-c8ad8d6657f7"
      },
      "execution_count": null,
      "outputs": [
        {
          "output_type": "stream",
          "name": "stdout",
          "text": [
            "Cloning into 'wine_helper'...\n",
            "remote: Enumerating objects: 54, done.\u001b[K\n",
            "remote: Counting objects: 100% (54/54), done.\u001b[K\n",
            "remote: Compressing objects: 100% (45/45), done.\u001b[K\n",
            "remote: Total 54 (delta 15), reused 34 (delta 9), pack-reused 0\u001b[K\n",
            "Unpacking objects: 100% (54/54), done.\n"
          ]
        }
      ]
    },
    {
      "cell_type": "code",
      "source": [
        "import time\n",
        "import random as r"
      ],
      "metadata": {
        "id": "7_so8--k0oRS"
      },
      "execution_count": null,
      "outputs": []
    },
    {
      "cell_type": "code",
      "source": [
        "!pip install xmltodict  # устанавливаем библиотеку для работы с xml"
      ],
      "metadata": {
        "id": "qBArUy4uv2i-",
        "colab": {
          "base_uri": "https://localhost:8080/"
        },
        "outputId": "b48e9ba6-218d-44e8-8bfc-74b155f70380"
      },
      "execution_count": null,
      "outputs": [
        {
          "output_type": "stream",
          "name": "stdout",
          "text": [
            "Looking in indexes: https://pypi.org/simple, https://us-python.pkg.dev/colab-wheels/public/simple/\n",
            "Collecting xmltodict\n",
            "  Downloading xmltodict-0.13.0-py2.py3-none-any.whl (10.0 kB)\n",
            "Installing collected packages: xmltodict\n",
            "Successfully installed xmltodict-0.13.0\n"
          ]
        }
      ]
    },
    {
      "cell_type": "code",
      "source": [
        "import xmltodict"
      ],
      "metadata": {
        "id": "Q443TxELv4UN"
      },
      "execution_count": null,
      "outputs": []
    },
    {
      "cell_type": "markdown",
      "source": [
        "# Классы"
      ],
      "metadata": {
        "id": "IBAglCLXSzwA"
      }
    },
    {
      "cell_type": "code",
      "source": [
        "# класс для работы с датасетом\n",
        "class DataSet:\n",
        "  '''\n",
        "  класс содержит пути к файлам изображений и разметки\n",
        "  выводит статистику: количество файлов, разрешения файлов\n",
        "  разбивает на train и val\n",
        "  '''\n",
        "  def __init__(self, img_dirs, lbl_dirs):\n",
        "    self.img_dirs = img_dirs  # !list of train/val/test dir\n",
        "    self.lbl_dirs = lbl_dirs\n",
        "\n",
        "    # os.path.join(img_dir, lbl_dir)\n",
        "\n",
        "    # self.img_lst = os.listdir(img_dir)\n",
        "    # self.lbl_lst = os.listdir(lbl_dir)\n",
        "\n",
        "  def get_stat(self):\n",
        "    # выводит количество файлов и список расширений файлов\n",
        "    print('Папки с изображениями:\\n')\n",
        "    commonpath = os.path.commonpath(self.img_dirs)\n",
        "    print(commonpath) # общая часть папок, чтобы отобразить структуру\n",
        "    # выводим информацию в каждой папке\n",
        "    for img_dir in self.img_dirs:\n",
        "      img_lst = [f for f in os.listdir(img_dir) if os.path.isfile(os.path.join(img_dir, f))]\n",
        "      print('  |')\n",
        "      print('  +-- ',os.path.relpath(img_dir, start=commonpath), ' [кол-во файлов - ',\n",
        "            len(img_lst), ', расширения: ', *{img_name.split('.')[-1] for img_name in img_lst if len(img_name.split('.'))>1},']', sep='')\n",
        "\n",
        "    print('\\n\\nПапки с файлами разметки:\\n')\n",
        "    commonpath = os.path.commonpath(self.lbl_dirs)\n",
        "    print(commonpath) # общая часть папок, чтобы отобразить структуру\n",
        "    # выводим информацию в каждой папке\n",
        "    for lbl_dir in self.lbl_dirs:\n",
        "      lbl_lst = [f for f in os.listdir(lbl_dir) if os.path.isfile(os.path.join(lbl_dir, f))]\n",
        "      print('  |')\n",
        "      print('  +-- ',os.path.relpath(lbl_dir, start=commonpath), ' [кол-во файлов - ',\n",
        "            len(lbl_lst), ', расширения: ', *{lbl_name.split('.')[-1] for lbl_name in lbl_lst if len(lbl_name.split('.'))>1},']', sep='')\n",
        "\n",
        "  # расширенная статистика по классам и объектам (количество, размеры, примеры классов)\n",
        "  def get_class_stat(self,img_list, bbox_list_tmp, img_dir, wh_offset = 1):  #\n",
        "    # выводит статистику по классам\n",
        "    # автоматически переводит относительные координаты в абсолютные\n",
        "    # на вход массивы: [image_name], [class, x, y, w, h] и путь к изображениям\n",
        "    # bbox_list - абсолютные координаты\n",
        "    # wh_offset - 0 - координаты считаем от центра, 1 - координаты угла\n",
        "    # self.bbox_list - относительные координаты (ToDo в отдельном методе)\n",
        "\n",
        "    bbox_list = bbox_list_tmp.copy()  # чтобы не затереть при переводе в абосолютные координаты\n",
        "    x,y,w,h = bbox_list[0,1:]\n",
        "    # если координаты относительные, переводим в абсолютные\n",
        "    self.bbox_list = bbox_list.copy()\n",
        "    # читаем изображения для получения размеров\n",
        "    flag = True\n",
        "    new_time = time.time()\n",
        "    img_lst = np.unique(img_list, axis=0) # # уникальный список изображений, чтобы не считывать неколько раз одно изображение\n",
        "    if (x < 1) and (y < 1):\n",
        "      print(f'Требуется перевод относительных координат в абсолютные ({len(np.unique(img_list, axis=0))} файлов)')\n",
        "      for i, im in enumerate(img_lst):\n",
        "        # индексы относящиеся к этому изображению\n",
        "        idx = np.where(img_list == im)\n",
        "        img = cv2.imread(os.path.join(img_dir,im))\n",
        "        for id in idx[0]:\n",
        "          bbox_list[id,[1,3]] *= img.shape[1]\n",
        "          bbox_list[id,[2,4]] *= img.shape[0]\n",
        "      # for i in range(len(np.unique(img_list, axis=0))):\n",
        "      #   img = cv2.imread(os.path.join(img_dir,img_list[i]))\n",
        "      #   bbox_list[i,[1,3]] *= img.shape[1]\n",
        "      #   bbox_list[i,[2,4]] *= img.shape[0]\n",
        "\n",
        "        if flag and time.time()-new_time > 1:\n",
        "          print('\\n...идет обработка, подождите еще примерно', round((time.time()-new_time)*len(img_lst)/(i+1)), 'сек\\n')\n",
        "          flag = False\n",
        "      # else:   # не проверялась\n",
        "    #   self.bbox_list[:,[1,3]] /= img.shape[1]\n",
        "    #   self.bbox_list[:,[2,4]] /= img.shape[0]\n",
        "\n",
        "    # 1. список всех классов\n",
        "    self.class_list = np.unique(bbox_list[:,0])\n",
        "    print('Классы:', *self.class_list)\n",
        "\n",
        "    # 2. баланс классов\n",
        "    self.class_counts = [len(bbox_list[bbox_list[:,0]==cl]) for cl in self.class_list]\n",
        "    # print(class_counts)\n",
        "    D = self.class_counts\n",
        "    with plt.style.context('dark_background'):\n",
        "      plt.bar(range(len(D)), D, align='center')\n",
        "      plt.xticks(range(len(D)), self.class_list)\n",
        "      plt.title('Распределение количества классов')\n",
        "      plt.show()\n",
        "      print()\n",
        "\n",
        "    # 3. распределение количества объектов на изображениях\n",
        "    _, count_obj = np.unique(img_list[:], return_counts=True) # считаем количество объектов на каждом изображении\n",
        "    # повторы уникальных значений\n",
        "    _, count_obj = np.unique(count_obj, return_counts=True)   # считаем уникальные повторы\n",
        "    # print(np.unique(img_list[:]))\n",
        "    D = count_obj\n",
        "    with plt.style.context('dark_background'):\n",
        "      plt.bar(range(len(D)), D, align='center')\n",
        "      plt.xticks(range(len(D)), range(1,len(D)+1))\n",
        "      plt.title('Распределение кол. объектов на изображениях')\n",
        "      plt.show()\n",
        "\n",
        "    # 4. выводим рандомно примеры каждого из классов\n",
        "    for cl in self.class_list:\n",
        "      cl_idx_num = 5 # количесво примеров класса для вывода\n",
        "      print('#'*50)\n",
        "      print('КЛАСС -', cl)\n",
        "      print('#'*50)\n",
        "\n",
        "      # показываем на графике статистику размеров bbox\n",
        "\n",
        "      # индексы нужного класса\n",
        "      idx_classes = np.where(bbox_list[:,0]==cl)[0]\n",
        "\n",
        "      # индексы нужного размера (5 самых крупных или крупнее 100, но не крупнее 400)\n",
        "      idx_bb_size_min = np.where(bbox_list[:,4] >= min(100, np.sort(bbox_list[idx_classes][:,4])[-min(cl_idx_num,len(bbox_list[idx_classes]))]))[0]\n",
        "      idx_bb_size_max = np.where(bbox_list[:,4] <= 400)[0]  # для ограничения максиального размера\n",
        "\n",
        "      # индексы из пересечения индексов нужного класса и размеров (попадают объекты с высотой от 100 до 400 или самые крупные, если меньше 100)\n",
        "      idx = list(set(idx_classes) & set(idx_bb_size_min) & set(idx_bb_size_max))\n",
        "      # print(bbox_list[idx])\n",
        "\n",
        "      with plt.style.context('dark_background'):\n",
        "        plt.title(f'Размеры bounding box, class={cl}, {len(idx_classes)}шт')\n",
        "        # plt.plot(wh_lst[1::2], wh_lst[0::2],':o')\n",
        "        # plt.show()\n",
        "\n",
        "        w, h = bbox_list[bbox_list[:,0]==cl][:,3], bbox_list[bbox_list[:,0]==cl][:,4]\n",
        "\n",
        "        wh_zip = list(zip(w,h)) # создаем пары, чтобы работать с ними в словаре\n",
        "        d = {d:wh_zip.count(d) for d in set(wh_zip)}\n",
        "        # print(d.values())\n",
        "        s = [s for s in d.values()]\n",
        "        # s = [20*4**n for n in range(len(x))]\n",
        "        plt.scatter([x for x,y in d.keys()],[y for x,y in d.keys()],s=s)\n",
        "        plt.show()\n",
        "      # 5 случайных интексов для вывода\n",
        "      samp_idx = np.random.choice(idx, np.min([cl_idx_num, len(idx)]), replace=False)\n",
        "      # print('samp_idx', samp_idx)\n",
        "      for i in samp_idx:\n",
        "        # print(samp_idx, img_list.shape)\n",
        "        img = cv2.imread(os.path.join(img_dir,img_list[i]))\n",
        "        print(os.path.join(img_dir,img_list[i]))\n",
        "        x,y,w,h = bbox_list[i][1:]\n",
        "\n",
        "        if (w > 1) and (h > 1):\n",
        "          print(bbox_list[i])\n",
        "          # print(x,y,w,h, img.shape)\n",
        "          if wh_offset:\n",
        "            img_class = img[int(y-h/2):int(y+h/2), int(x-w/2):int(x+w/2)]\n",
        "          else:\n",
        "            img_class = img[int(y):int(y+h), int(x):int(x+w)]\n",
        "          cv2_imshow(img_class)\n",
        "\n",
        "  def get_img_idx(self, img_list, idx):\n",
        "    # Функция возвращает индексы списка изображений, где есть нужные классы\n",
        "    # 1. находим индексы, где есть нужный класс\n",
        "    img_filtered = np.unique(img_list[idx])\n",
        "    idx = np.where(np.in1d(img_list, img_filtered))[0]\n",
        "    return idx, img_filtered  # возвращаем индексы с нужными изображениями и список нужных изображений\n",
        "\n",
        "  def get_filt_classes(self, img_list, bbox_list, img_dir, inc_cl=None, exc_cl=None, mis_sq=0, max_sq=10e7):\n",
        "    '''\n",
        "    функция возвращает индексы для определенных классов и параметров\n",
        "    :img_list: список названий файлов\n",
        "    :bbox_list: список файлов с аннотацией [class x y w h]. Координаты могут быть относительные или абсолютные\n",
        "    :inc_cl: классы, которые надо включить\n",
        "    :exc_cl: классы, которые надо исключить\n",
        "    :mis_sq: минимальная площать bbox\n",
        "    :max_sq: максиальная площать bbox\n",
        "    :return: список индексов подходящик под фильтр\n",
        "    '''\n",
        "\n",
        "    # 1. список всех классов\n",
        "    self.class_list = np.unique(bbox_list[:,0])\n",
        "\n",
        "    print('Список классов:', self.class_list)\n",
        "    idx_set_list = [] # здесь будут списки индексов, пересечение которых определим\n",
        "    # idx = 0\n",
        "\n",
        "    if inc_cl:\n",
        "      if not sum([cl in self.class_list for cl in inc_cl]):\n",
        "        print(f'ERROR: класс {inc_cl} не входит в список классов {self.class_list}')\n",
        "      # 1. находим индексы, где встречается нужный класс\n",
        "      idx = np.where(np.in1d(bbox_list[:,0], inc_cl))[0]\n",
        "      # 2. фильтруем изображения, чтобы остались только с нужными индексами\n",
        "      idx, img_filtered = self.get_img_idx(img_list, idx)\n",
        "\n",
        "    # исключаем изображения с ненужными классами\n",
        "    if exc_cl:\n",
        "      if not sum([cl in self.class_list for cl in exc_cl]):\n",
        "        print(f'ERROR: класс {exc_cl} не входит в список классов {self.class_list}')\n",
        "      # 1. находим индексы, где встречается нужный класс\n",
        "      idx = np.where(np.in1d(bbox_list[:,0], exc_cl))[0]\n",
        "      # 2. фильтруем изображения, чтобы остались только с нужными индексами\n",
        "      idx, img_filtered = self.get_img_idx(img_list, idx)\n",
        "      # 3. вычитаем найденные индексы и названия файлов, чтобы исключить\n",
        "      # print('idx', idx)\n",
        "      idx = np.setdiff1d(np.arange(len(img_list)), idx)\n",
        "      img_filtered = np.unique(img_list[idx])\n",
        "\n",
        "    # исключаем изображения с мелкими объектами\n",
        "    if mis_sq:\n",
        "      # 1. считаем площадь объектов\n",
        "      sq_list = bbox_list[:,3] * bbox_list[:,4]\n",
        "      # 2. находим индексы, где встречается нужный класс\n",
        "      idx = np.where(sq_list < mis_sq)[0]\n",
        "      # 3. фильтруем изображения, чтобы остались только с нужными индексами\n",
        "      idx, img_filtered = self.get_img_idx(img_list, idx)\n",
        "      # 4. вычитаем найденные индексы и названия файлов, чтобы исключить изображения с мелкими объектами\n",
        "      # print('idx', idx)\n",
        "      idx = np.setdiff1d(np.arange(len(img_list)), idx)\n",
        "      img_filtered = np.unique(img_list[idx])\n",
        "\n",
        "      # print(*sq_list[idx])\n",
        "\n",
        "\n",
        "    self.idx = idx\n",
        "    print(f'из {len(np.unique(img_list))} изображений соответствует фильтру {len(img_filtered)} изображений ({len(bbox_list)}/{len(self.idx)})')\n",
        "    print(f'включены классы {inc_cl}, исключены {exc_cl}, мин. площадь {mis_sq}, макс. площадь {max_sq}')\n",
        "    print(f'\\nостались классы {np.unique(bbox_list[idx,0])}')\n",
        "\n",
        "    return self.idx"
      ],
      "metadata": {
        "id": "rMI7g5IGS1uK"
      },
      "execution_count": null,
      "outputs": []
    },
    {
      "cell_type": "markdown",
      "source": [
        "\n",
        "\n",
        "---\n",
        "\n",
        "Блок тестов"
      ],
      "metadata": {
        "id": "5_kKeupDNqsq"
      }
    },
    {
      "cell_type": "code",
      "source": [
        "# !cp /content/drive/MyDrive/Project_people/dataset_land/vis_drone19_sample.zip /content/"
      ],
      "metadata": {
        "id": "wj1Tm8SXTz6Q"
      },
      "execution_count": null,
      "outputs": []
    },
    {
      "cell_type": "code",
      "source": [
        "# !unzip -q vis_drone19_sample.zip -d /content"
      ],
      "metadata": {
        "id": "Y3z80hTRT-3o"
      },
      "execution_count": null,
      "outputs": []
    },
    {
      "cell_type": "markdown",
      "source": [
        "конец блока тестов\n",
        "\n",
        "---\n",
        "\n"
      ],
      "metadata": {
        "id": "ylMGLd4bNsd_"
      }
    },
    {
      "cell_type": "markdown",
      "source": [
        "# Функциии"
      ],
      "metadata": {
        "id": "YH9xQuqDL6Dd"
      }
    },
    {
      "cell_type": "markdown",
      "source": [
        "**вывод несколько изображений из папки**"
      ],
      "metadata": {
        "id": "RZcnU3m-c8ti"
      }
    },
    {
      "cell_type": "code",
      "source": [
        "def draw_imgs_from_path(dir, num=8):\n",
        "  '''\n",
        "  Draws images from the folder as a grid (4 cols x num / 4 rows)\n",
        "  :dir: path to folder with images\n",
        "  :num: number of images (default = 16)\n",
        "  '''\n",
        "  # получим список с именами всех картинок, находящихся в папке pic\n",
        "  pictures = os.listdir(dir)\n",
        "  # Упорядочим список\n",
        "  pictures = sorted(pictures)\n",
        "  # Создадим фигуру размером 16 на 4 дюйма\n",
        "  pic_box = plt.figure(figsize=(32,5*(num//4+1)))\n",
        "\n",
        "  # Поочередно считываем в переменную picture имя изображения из списка pictures. В переменную i записываем номер итерации\n",
        "  for i, picture in enumerate(pictures[:num]):\n",
        "      # считываем изображение в picture\n",
        "      picture = cv2.imread(os.path.join(dir,picture))\n",
        "      # конвертируем BGR изображение в RGB\n",
        "      picture = cv2.cvtColor(picture, cv2.COLOR_BGR2RGB)\n",
        "      # добавляем ячейку в pix_box для вывода текущего изображения\n",
        "      pic_box.add_subplot(num//4+1,4,i+1)\n",
        "      plt.title(pictures[i] + '\\n' + str(picture.shape))\n",
        "      plt.imshow(picture)\n",
        "      # отключаем отображение осей\n",
        "      plt.axis('off')\n",
        "  # выводим все созданные фигуры на экран\n",
        "  plt.show()\n"
      ],
      "metadata": {
        "id": "A9ZNd3Rec8EY"
      },
      "execution_count": null,
      "outputs": []
    },
    {
      "cell_type": "code",
      "source": [
        "def check_img_dir(dir):\n",
        "  '''\n",
        "  Counts images in the folder\n",
        "  shows file extensions and a graph of image sizes\n",
        "  :dir: path to folder with images\n",
        "  '''\n",
        "  wh_lst = []   # массив для размеров изображений\n",
        "  img_lst = os.listdir(dir)\n",
        "  flag = True # флаг мониторинга контроля ожидания\n",
        "  print('Количество файлов в папке:', len(img_lst))\n",
        "  print('Расширения:', *{img_name.split('.')[-1] for img_name in img_lst})\n",
        "  new_time = time.time()\n",
        "  for i,img_name in enumerate(img_lst[:]):\n",
        "    tmp_img = cv2.imread(os.path.join(dir,img_name))\n",
        "    wh_lst.extend(tmp_img.shape[:2])\n",
        "    # print(img_name, tmp_img.shape[:2])\n",
        "    if flag and time.time()-new_time > 1:\n",
        "      print('\\n...идет обработка, подождите еще примерно', round((time.time()-new_time)*len(img_lst)/(i+1)), 'сек\\n')\n",
        "      flag = False\n",
        "\n",
        "  with plt.style.context('dark_background'):\n",
        "    plt.title('Размеры изображений')\n",
        "    # plt.plot(wh_lst[1::2], wh_lst[0::2],':o')\n",
        "    # plt.show()\n",
        "\n",
        "    x, y = wh_lst[1::2], wh_lst[0::2]\n",
        "\n",
        "    wh_zip = list(zip(x,y)) # создаем пары, чтобы работать с ними в словаре\n",
        "    d = {d:wh_zip.count(d) for d in set(wh_zip)}\n",
        "    # print(d.values())\n",
        "    s = [s for s in d.values()]\n",
        "    # s = [20*4**n for n in range(len(x))]\n",
        "    plt.scatter([x for x,y in d.keys()],[y for x,y in d.keys()],s=s)\n",
        "    plt.show()\n",
        "\n",
        "\n",
        "# check_img_dir(ds.img_dirs[0])"
      ],
      "metadata": {
        "id": "YuuWLOuHDYfO"
      },
      "execution_count": null,
      "outputs": []
    },
    {
      "cell_type": "markdown",
      "source": [
        "### Для YOLOv5"
      ],
      "metadata": {
        "id": "FdmRsGoYNZCw"
      }
    },
    {
      "cell_type": "code",
      "source": [
        "# создание папок для yolo\n",
        "\n",
        "def create_dirs_for_yolo(root_dir):\n",
        "  '''\n",
        "  Creates root_dir/train/images, root_dir/train/labels and the same for /val\n",
        "  '''\n",
        "  os.makedirs(os.path.join(root_dir,'train/images/'), exist_ok=True)\n",
        "  os.makedirs(os.path.join(root_dir,'train/labels/'), exist_ok=True)\n",
        "\n",
        "  os.makedirs(os.path.join(root_dir,'val/images/'), exist_ok=True)\n",
        "  os.makedirs(os.path.join(root_dir+'val/labels/'), exist_ok=True)"
      ],
      "metadata": {
        "id": "3DCtYJj9McYs"
      },
      "execution_count": null,
      "outputs": []
    },
    {
      "cell_type": "code",
      "source": [
        "# создаем custom.yaml\n",
        "def create_yaml(fname='custom.yaml', classes={0:'person'}, main_dir='/content/dataset/', dirs=['train','val']):\n",
        "  '''\n",
        "  Creates custom.yaml for yolov5\n",
        "  :fname: yaml file name\n",
        "  :classes: dictionary of all classes (default {0:'person'})\n",
        "  :main_dir: path to root folder\n",
        "  :dirs: train and val subfolders\n",
        "  '''\n",
        "  file = open(fname, 'w')  # файл будет создан, если отсутствует\n",
        "\n",
        "  file.write(f\"train: {main_dir+dirs[0]}/\\n\")\n",
        "  file.write(f\"val: {main_dir+dirs[1]}/\\n\\n\")\n",
        "\n",
        "  file.write(f\"nc: {len(classes)}\\n\\n\")\n",
        "\n",
        "  file.write(f\"names: {list(classes.values())}\")\n",
        "  # names: ['person']\n",
        "  file.close()"
      ],
      "metadata": {
        "id": "Rm8agioTNYXN"
      },
      "execution_count": null,
      "outputs": []
    },
    {
      "cell_type": "code",
      "source": [
        "# 17.10.22\n",
        "\n",
        "def mapping_classes(class_mapping, dir_label, resave=0):\n",
        "  '''\n",
        "  Функция меняет класс в аннотации yolo. Например меняет все классы 4 на класс 0.\n",
        "  На вход передается словать {старый класс:новый класс} и путь к файлам аннотации\n",
        "  resave=1 - перезапись сущ. файлов. 0 - только вывод на печать\n",
        "  '''\n",
        "\n",
        "  bbox_list = []\n",
        "\n",
        "  for lb_fname in os.listdir(dir_label)[:]:\n",
        "    lb = np.loadtxt(os.path.join(dir_label, lb_fname))\n",
        "    # проверяем, если размерность = 1 добавляем размерность, иначе ошибка при конвертации в массив numpy\n",
        "    if lb.shape[0]: # если файл разметки непустой\n",
        "      if len(np.array(lb).shape) != 2:\n",
        "        lb = [lb]\n",
        "        # print(im,len(np.array(lb).shape))\n",
        "      # bbox_list.extend(lb)\n",
        "      lb = np.array(lb)\n",
        "\n",
        "      # замена классов на целевые\n",
        "      class_new = [class_mapping[cl] for cl in lb[:][:,0]]\n",
        "      annot_data = np.column_stack([class_new, lb[:][:,1:]])\n",
        "\n",
        "      if resave:\n",
        "        np.savetxt(os.path.join(dir_label,lb_fname), annot_data, fmt='%s', delimiter=' ')\n",
        "      else:\n",
        "        print('было', lb, '\\nстало', annot_data)"
      ],
      "metadata": {
        "id": "zVXgcxrZs_-_"
      },
      "execution_count": null,
      "outputs": []
    },
    {
      "cell_type": "code",
      "source": [
        "print('\\nфункции успешно загружены')\n",
        "print('используйте функции:')\n",
        "print('draw_imgs_from_path - для вывода сетки изображений из папки (файлы сортируются по имени)')\n",
        "print('check_img_dir - чтобы получить количество изображений, типы расширений и разброс размеров на графике')\n",
        "print('create_dirs_for_yolo - подготовить папки для датасета на котором будет обучаться yolo')\n",
        "print('create_yaml - для создания файла yaml yolo с описанием путей и классов')\n",
        "\n"
      ],
      "metadata": {
        "id": "R0mDjYYuOi5P",
        "colab": {
          "base_uri": "https://localhost:8080/"
        },
        "outputId": "e8194518-2327-4860-c320-9a7e6d02a7a3"
      },
      "execution_count": null,
      "outputs": [
        {
          "output_type": "stream",
          "name": "stdout",
          "text": [
            "\n",
            "функции успешно загружены\n",
            "используйте функции:\n",
            "draw_imgs_from_path - для вывода сетки изображений из папки (файлы сортируются по имени)\n",
            "check_img_dir - чтобы получить количество изображений, типы расширений и разброс размеров на графике\n",
            "create_dirs_for_yolo - подготовить папки для датасета на котором будет обучаться yolo\n",
            "create_yaml - для создания файла yaml yolo с описанием путей и классов\n"
          ]
        }
      ]
    }
  ]
}