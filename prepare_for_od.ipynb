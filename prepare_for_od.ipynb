{
  "nbformat": 4,
  "nbformat_minor": 0,
  "metadata": {
    "colab": {
      "provenance": [],
      "collapsed_sections": [],
      "mount_file_id": "1Ht0YDTNe7xepAtKe631rlqEjXGqs9NlL",
      "authorship_tag": "ABX9TyNbmYLP4q9wesaDGv9jJiAd",
      "include_colab_link": true
    },
    "kernelspec": {
      "name": "python3",
      "display_name": "Python 3"
    },
    "language_info": {
      "name": "python"
    }
  },
  "cells": [
    {
      "cell_type": "markdown",
      "metadata": {
        "id": "view-in-github",
        "colab_type": "text"
      },
      "source": [
        "<a href=\"https://colab.research.google.com/github/DmitryMok/od_helper/blob/main/prepare_for_od.ipynb\" target=\"_parent\"><img src=\"https://colab.research.google.com/assets/colab-badge.svg\" alt=\"Open In Colab\"/></a>"
      ]
    },
    {
      "cell_type": "markdown",
      "source": [
        "# Модуль для анализа и конвертации датасета изображения\n",
        "\n",
        "1. Анализ датасета (размеры и ориентация изображений)\n",
        "2. Анализ аннотаций (наличие аннотаций для всех изображений)\n",
        "3. Конвертация в формат yolo\n",
        "4. Фильтрация изображений (по размерам, количеству изображений и т.п.)"
      ],
      "metadata": {
        "id": "-Ou6Nahnxln3"
      }
    },
    {
      "cell_type": "markdown",
      "source": [
        "# Анализ датасета"
      ],
      "metadata": {
        "id": "vOcOWTE6yHOg"
      }
    },
    {
      "cell_type": "code",
      "source": [
        "!git clone https://github.com/DmitryMok/wine_helper # вспомогательные функции\n",
        "from wine_helper.prepare_data_helper import *"
      ],
      "metadata": {
        "colab": {
          "base_uri": "https://localhost:8080/"
        },
        "id": "hPzPy4be58mq",
        "outputId": "d8bb9834-24e7-41c8-81c3-714e25c0ac19"
      },
      "execution_count": null,
      "outputs": [
        {
          "output_type": "stream",
          "name": "stdout",
          "text": [
            "Cloning into 'wine_helper'...\n",
            "remote: Enumerating objects: 45, done.\u001b[K\n",
            "remote: Counting objects:   2% (1/45)\u001b[K\rremote: Counting objects:   4% (2/45)\u001b[K\rremote: Counting objects:   6% (3/45)\u001b[K\rremote: Counting objects:   8% (4/45)\u001b[K\rremote: Counting objects:  11% (5/45)\u001b[K\rremote: Counting objects:  13% (6/45)\u001b[K\rremote: Counting objects:  15% (7/45)\u001b[K\rremote: Counting objects:  17% (8/45)\u001b[K\rremote: Counting objects:  20% (9/45)\u001b[K\rremote: Counting objects:  22% (10/45)\u001b[K\rremote: Counting objects:  24% (11/45)\u001b[K\rremote: Counting objects:  26% (12/45)\u001b[K\rremote: Counting objects:  28% (13/45)\u001b[K\rremote: Counting objects:  31% (14/45)\u001b[K\rremote: Counting objects:  33% (15/45)\u001b[K\rremote: Counting objects:  35% (16/45)\u001b[K\rremote: Counting objects:  37% (17/45)\u001b[K\rremote: Counting objects:  40% (18/45)\u001b[K\rremote: Counting objects:  42% (19/45)\u001b[K\rremote: Counting objects:  44% (20/45)\u001b[K\rremote: Counting objects:  46% (21/45)\u001b[K\rremote: Counting objects:  48% (22/45)\u001b[K\rremote: Counting objects:  51% (23/45)\u001b[K\rremote: Counting objects:  53% (24/45)\u001b[K\rremote: Counting objects:  55% (25/45)\u001b[K\rremote: Counting objects:  57% (26/45)\u001b[K\rremote: Counting objects:  60% (27/45)\u001b[K\rremote: Counting objects:  62% (28/45)\u001b[K\rremote: Counting objects:  64% (29/45)\u001b[K\rremote: Counting objects:  66% (30/45)\u001b[K\rremote: Counting objects:  68% (31/45)\u001b[K\rremote: Counting objects:  71% (32/45)\u001b[K\rremote: Counting objects:  73% (33/45)\u001b[K\rremote: Counting objects:  75% (34/45)\u001b[K\rremote: Counting objects:  77% (35/45)\u001b[K\rremote: Counting objects:  80% (36/45)\u001b[K\rremote: Counting objects:  82% (37/45)\u001b[K\rremote: Counting objects:  84% (38/45)\u001b[K\rremote: Counting objects:  86% (39/45)\u001b[K\rremote: Counting objects:  88% (40/45)\u001b[K\rremote: Counting objects:  91% (41/45)\u001b[K\rremote: Counting objects:  93% (42/45)\u001b[K\rremote: Counting objects:  95% (43/45)\u001b[K\rremote: Counting objects:  97% (44/45)\u001b[K\rremote: Counting objects: 100% (45/45)\u001b[K\rremote: Counting objects: 100% (45/45), done.\u001b[K\n",
            "remote: Compressing objects:   2% (1/36)\u001b[K\rremote: Compressing objects:   5% (2/36)\u001b[K\rremote: Compressing objects:   8% (3/36)\u001b[K\rremote: Compressing objects:  11% (4/36)\u001b[K\rremote: Compressing objects:  13% (5/36)\u001b[K\rremote: Compressing objects:  16% (6/36)\u001b[K\rremote: Compressing objects:  19% (7/36)\u001b[K\rremote: Compressing objects:  22% (8/36)\u001b[K\rremote: Compressing objects:  25% (9/36)\u001b[K\rremote: Compressing objects:  27% (10/36)\u001b[K\rremote: Compressing objects:  30% (11/36)\u001b[K\rremote: Compressing objects:  33% (12/36)\u001b[K\rremote: Compressing objects:  36% (13/36)\u001b[K\rremote: Compressing objects:  38% (14/36)\u001b[K\rremote: Compressing objects:  41% (15/36)\u001b[K\rremote: Compressing objects:  44% (16/36)\u001b[K\rremote: Compressing objects:  47% (17/36)\u001b[K\rremote: Compressing objects:  50% (18/36)\u001b[K\rremote: Compressing objects:  52% (19/36)\u001b[K\rremote: Compressing objects:  55% (20/36)\u001b[K\rremote: Compressing objects:  58% (21/36)\u001b[K\rremote: Compressing objects:  61% (22/36)\u001b[K\rremote: Compressing objects:  63% (23/36)\u001b[K\rremote: Compressing objects:  66% (24/36)\u001b[K\rremote: Compressing objects:  69% (25/36)\u001b[K\rremote: Compressing objects:  72% (26/36)\u001b[K\rremote: Compressing objects:  75% (27/36)\u001b[K\rremote: Compressing objects:  77% (28/36)\u001b[K\rremote: Compressing objects:  80% (29/36)\u001b[K\rremote: Compressing objects:  83% (30/36)\u001b[K\rremote: Compressing objects:  86% (31/36)\u001b[K\rremote: Compressing objects:  88% (32/36)\u001b[K\rremote: Compressing objects:  91% (33/36)\u001b[K\rremote: Compressing objects:  94% (34/36)\u001b[K\rremote: Compressing objects:  97% (35/36)\u001b[K\rremote: Compressing objects: 100% (36/36)\u001b[K\rremote: Compressing objects: 100% (36/36), done.\u001b[K\n",
            "remote: Total 45 (delta 14), reused 33 (delta 9), pack-reused 0\u001b[K\n",
            "Unpacking objects:   2% (1/45)   \rUnpacking objects:   4% (2/45)   \rUnpacking objects:   6% (3/45)   \rUnpacking objects:   8% (4/45)   \rUnpacking objects:  11% (5/45)   \rUnpacking objects:  13% (6/45)   \rUnpacking objects:  15% (7/45)   \rUnpacking objects:  17% (8/45)   \rUnpacking objects:  20% (9/45)   \rUnpacking objects:  22% (10/45)   \rUnpacking objects:  24% (11/45)   \rUnpacking objects:  26% (12/45)   \rUnpacking objects:  28% (13/45)   \rUnpacking objects:  31% (14/45)   \rUnpacking objects:  33% (15/45)   \rUnpacking objects:  35% (16/45)   \rUnpacking objects:  37% (17/45)   \rUnpacking objects:  40% (18/45)   \rUnpacking objects:  42% (19/45)   \rUnpacking objects:  44% (20/45)   \rUnpacking objects:  46% (21/45)   \rUnpacking objects:  48% (22/45)   \rUnpacking objects:  51% (23/45)   \rUnpacking objects:  53% (24/45)   \rUnpacking objects:  55% (25/45)   \rUnpacking objects:  57% (26/45)   \rUnpacking objects:  60% (27/45)   \rUnpacking objects:  62% (28/45)   \rUnpacking objects:  64% (29/45)   \rUnpacking objects:  66% (30/45)   \rUnpacking objects:  68% (31/45)   \rUnpacking objects:  71% (32/45)   \rUnpacking objects:  73% (33/45)   \rUnpacking objects:  75% (34/45)   \rUnpacking objects:  77% (35/45)   \rUnpacking objects:  80% (36/45)   \rUnpacking objects:  82% (37/45)   \rUnpacking objects:  84% (38/45)   \rUnpacking objects:  86% (39/45)   \rUnpacking objects:  88% (40/45)   \rUnpacking objects:  91% (41/45)   \rUnpacking objects:  93% (42/45)   \rUnpacking objects:  95% (43/45)   \rUnpacking objects:  97% (44/45)   \rUnpacking objects: 100% (45/45)   \rUnpacking objects: 100% (45/45), done.\n"
          ]
        }
      ]
    },
    {
      "cell_type": "code",
      "source": [
        "!pip install xmltodict  # устанавливаем библиотеку для работы с xml"
      ],
      "metadata": {
        "id": "qBArUy4uv2i-"
      },
      "execution_count": null,
      "outputs": []
    },
    {
      "cell_type": "code",
      "source": [
        "import xmltodict"
      ],
      "metadata": {
        "id": "Q443TxELv4UN"
      },
      "execution_count": null,
      "outputs": []
    },
    {
      "cell_type": "markdown",
      "source": [
        "# Функциии"
      ],
      "metadata": {
        "id": "YH9xQuqDL6Dd"
      }
    },
    {
      "cell_type": "markdown",
      "source": [
        "**вывод несколько изображений из папки**"
      ],
      "metadata": {
        "id": "RZcnU3m-c8ti"
      }
    },
    {
      "cell_type": "code",
      "source": [
        "def draw_imgs_from_path(dir, num=8):\n",
        "  '''\n",
        "  Draws images from the folder as a grid (4 cols x num / 4 rows)\n",
        "  :dir: path to folder with images\n",
        "  :num: number of images (default = 16)\n",
        "  '''\n",
        "  # получим список с именами всех картинок, находящихся в папке pic\n",
        "  pictures = os.listdir(dir)\n",
        "  # Упорядочим список \n",
        "  pictures = sorted(pictures)\n",
        "  # Создадим фигуру размером 16 на 4 дюйма\n",
        "  pic_box = plt.figure(figsize=(32,5*(num//4+1)))\n",
        "  \n",
        "  # Поочередно считываем в переменную picture имя изображения из списка pictures. В переменную i записываем номер итерации\n",
        "  for i, picture in enumerate(pictures[:num]):\n",
        "      # считываем изображение в picture\n",
        "      picture = cv2.imread(DIR_IMG + picture)\n",
        "      # конвертируем BGR изображение в RGB\n",
        "      picture = cv2.cvtColor(picture, cv2.COLOR_BGR2RGB)\n",
        "      # добавляем ячейку в pix_box для вывода текущего изображения\n",
        "      pic_box.add_subplot(num//4+1,4,i+1)\n",
        "      plt.title(pictures[i] + '\\n' + str(picture.shape))\n",
        "      plt.imshow(picture)\n",
        "      # отключаем отображение осей\n",
        "      plt.axis('off')\n",
        "  # выводим все созданные фигуры на экран\n",
        "  plt.show()    \n"
      ],
      "metadata": {
        "id": "A9ZNd3Rec8EY"
      },
      "execution_count": null,
      "outputs": []
    },
    {
      "cell_type": "code",
      "source": [
        "def check_img_dir(dir):\n",
        "  '''\n",
        "  Counts images in the folder\n",
        "  shows file extensions and a graph of image sizes\n",
        "  :dir: path to folder with images\n",
        "  '''\n",
        "  wh_lst = []   # массив для размеров изображений\n",
        "  img_lst = os.listdir(dir)\n",
        "  flag = True # флаг мониторинга контроля ожидания\n",
        "  print('Количество файлов в папке:', len(img_lst))\n",
        "  print('Расширения:', *{img_name.split('.')[-1] for img_name in img_lst})\n",
        "  new_time = time.time()\n",
        "  for i,img_name in enumerate(img_lst[:]):\n",
        "    tmp_img = cv2.imread(DIR_IMG+img_name)\n",
        "    wh_lst.extend(tmp_img.shape[:2])\n",
        "    # print(img_name, tmp_img.shape[:2])\n",
        "    if flag and time.time()-new_time > 1:\n",
        "      print('\\n...идет обработка, подождите еще примерно', round((time.time()-new_time)*len(img_lst)/(i+1)), 'сек\\n')\n",
        "      flag = False\n",
        "\n",
        "  with plt.style.context('dark_background'):\n",
        "    plt.title('Размеры изображений')\n",
        "    plt.plot(wh_lst[1::2], wh_lst[0::2],':o')\n"
      ],
      "metadata": {
        "id": "YuuWLOuHDYfO"
      },
      "execution_count": null,
      "outputs": []
    },
    {
      "cell_type": "markdown",
      "source": [
        "### Для YOLOv5"
      ],
      "metadata": {
        "id": "FdmRsGoYNZCw"
      }
    },
    {
      "cell_type": "code",
      "source": [
        "# создание папок для yolo\n",
        "\n",
        "def create_dirs_for_yolo(root_dir):\n",
        "  '''\n",
        "  Creates root_dir/train/images, root_dir/train/labels and the same for /val\n",
        "  '''\n",
        "  os.makedirs(DIR_TRAIN_YOLO+'train/images/', exist_ok=True)\n",
        "  os.makedirs(DIR_TRAIN_YOLO+'train/labels/', exist_ok=True)\n",
        "\n",
        "  os.makedirs(DIR_TRAIN_YOLO+'val/images/', exist_ok=True)\n",
        "  os.makedirs(DIR_TRAIN_YOLO+'val/labels/', exist_ok=True)"
      ],
      "metadata": {
        "id": "3DCtYJj9McYs"
      },
      "execution_count": null,
      "outputs": []
    },
    {
      "cell_type": "code",
      "source": [
        "# создаем custom.yaml\n",
        "def create_yaml(fname='custom.yaml', classes={0:'person'}, main_dir='/content/dataset/', dirs=['train','val']):\n",
        "  '''\n",
        "  Creates custom.yaml for yolov5\n",
        "  :fname: yaml file name \n",
        "  :classes: dictionary of all classes (default {0:'person'})\n",
        "  :main_dir: path to root folder\n",
        "  :dirs: train and val subfolders\n",
        "  '''\n",
        "  file = open(fname, 'a')  # файл будет создан, если отсутствует\n",
        "\n",
        "  file.write(f\"train: {main_dir+dirs[0]}/\\n\")\n",
        "  file.write(f\"val: {main_dir+dirs[1]}/\\n\\n\")\n",
        "\n",
        "  file.write(f\"nc: {len(classes)}\\n\\n\")\n",
        "\n",
        "  file.write(f\"names: {list(classes.values())}\")\n",
        "  # names: ['person']\n",
        "  file.close()"
      ],
      "metadata": {
        "id": "Rm8agioTNYXN"
      },
      "execution_count": null,
      "outputs": []
    },
    {
      "cell_type": "code",
      "source": [
        "print('\\nфункции успешно загружены')\n",
        "print('используйте функции:')\n",
        "print('draw_imgs_from_path - для вывода сетки изображений из папки (файлы сортируются по имени)')\n",
        "print('check_img_dir - чтобы получить количество изображений, типы расширений и разброс размеров на графике')\n",
        "print('create_dirs_for_yolo - подготовить папки для датасета на котором будет обучаться yolo')\n",
        "print('create_yaml - для создания файла yaml yolo с описанием путей и классов')\n",
        "\n"
      ],
      "metadata": {
        "id": "R0mDjYYuOi5P"
      },
      "execution_count": null,
      "outputs": []
    }
  ]
}