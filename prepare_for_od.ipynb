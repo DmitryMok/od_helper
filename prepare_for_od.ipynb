{
  "nbformat": 4,
  "nbformat_minor": 0,
  "metadata": {
    "colab": {
      "provenance": [],
      "collapsed_sections": [],
      "mount_file_id": "1Ht0YDTNe7xepAtKe631rlqEjXGqs9NlL",
      "authorship_tag": "ABX9TyNL6VoXXKWqGvfxQGiGQdSx",
      "include_colab_link": true
    },
    "kernelspec": {
      "name": "python3",
      "display_name": "Python 3"
    },
    "language_info": {
      "name": "python"
    }
  },
  "cells": [
    {
      "cell_type": "markdown",
      "metadata": {
        "id": "view-in-github",
        "colab_type": "text"
      },
      "source": [
        "<a href=\"https://colab.research.google.com/github/DmitryMok/od_helper/blob/main/prepare_for_od.ipynb\" target=\"_parent\"><img src=\"https://colab.research.google.com/assets/colab-badge.svg\" alt=\"Open In Colab\"/></a>"
      ]
    },
    {
      "cell_type": "markdown",
      "source": [
        "# Модуль для анализа и конвертации датасета изображения\n",
        "\n",
        "1. Анализ датасета (размеры и ориентация изображений)\n",
        "2. Анализ аннотаций (наличие аннотаций для всех изображений)\n",
        "3. Конвертация в формат yolo\n",
        "4. Фильтрация изображений (по размерам, количеству изображений и т.п.)"
      ],
      "metadata": {
        "id": "-Ou6Nahnxln3"
      }
    },
    {
      "cell_type": "markdown",
      "source": [
        "# Анализ датасета"
      ],
      "metadata": {
        "id": "vOcOWTE6yHOg"
      }
    },
    {
      "cell_type": "code",
      "source": [
        "!git clone https://github.com/DmitryMok/wine_helper # вспомогательные функции\n",
        "from wine_helper.prepare_data_helper import *"
      ],
      "metadata": {
        "colab": {
          "base_uri": "https://localhost:8080/"
        },
        "id": "hPzPy4be58mq",
        "outputId": "7a65ad19-1e12-4116-d639-0c49804ae9aa"
      },
      "execution_count": null,
      "outputs": [
        {
          "output_type": "stream",
          "name": "stdout",
          "text": [
            "Cloning into 'wine_helper'...\n",
            "remote: Enumerating objects: 45, done.\u001b[K\n",
            "remote: Counting objects: 100% (45/45), done.\u001b[K\n",
            "remote: Compressing objects: 100% (36/36), done.\u001b[K\n",
            "remote: Total 45 (delta 14), reused 33 (delta 9), pack-reused 0\u001b[K\n",
            "Unpacking objects: 100% (45/45), done.\n"
          ]
        }
      ]
    },
    {
      "cell_type": "code",
      "source": [
        "import time"
      ],
      "metadata": {
        "id": "7_so8--k0oRS"
      },
      "execution_count": null,
      "outputs": []
    },
    {
      "cell_type": "code",
      "source": [
        "!pip install xmltodict  # устанавливаем библиотеку для работы с xml"
      ],
      "metadata": {
        "id": "qBArUy4uv2i-"
      },
      "execution_count": null,
      "outputs": []
    },
    {
      "cell_type": "code",
      "source": [
        "import xmltodict"
      ],
      "metadata": {
        "id": "Q443TxELv4UN"
      },
      "execution_count": null,
      "outputs": []
    },
    {
      "cell_type": "markdown",
      "source": [
        "# Классы"
      ],
      "metadata": {
        "id": "IBAglCLXSzwA"
      }
    },
    {
      "cell_type": "code",
      "source": [
        "# класс для работы с датасетом\n",
        "class DataSet:\n",
        "  '''\n",
        "  класс содержит пути к файлам изображений и разметки\n",
        "  выводит статистику: количество файлов, разрешения файлов\n",
        "  разбивает на train и val\n",
        "  '''\n",
        "  def __init__(self, img_dirs, lbl_dirs):\n",
        "    self.img_dirs = img_dirs  # !list of train/val/test dir\n",
        "    self.lbl_dirs = lbl_dirs\n",
        "\n",
        "    # os.path.join(img_dir, lbl_dir)\n",
        "\n",
        "    # self.img_lst = os.listdir(img_dir)\n",
        "    # self.lbl_lst = os.listdir(lbl_dir)\n",
        "\n",
        "  def get_stat(self):\n",
        "    print('Папки с изображениями:\\n')\n",
        "    commonpath = os.path.commonpath(ds.img_dirs)\n",
        "    print(commonpath) # общая часть папок, чтобы отобразить структуру\n",
        "    # выводим информацию в каждой папке\n",
        "    for img_dir in self.img_dirs:\n",
        "      img_lst = os.listdir(img_dir)\n",
        "      print('  |')\n",
        "      print('  +-- ',os.path.relpath(img_dir, start=cpath), ' [кол-во файлов - ', \n",
        "            len(img_lst), ', расширения: ', *{img_name.split('.')[-1] for img_name in img_lst if len(img_name.split('.'))>1},']', sep='')\n",
        "\n",
        "    print('\\n\\nПапки с файлами разметки:\\n')\n",
        "    commonpath = os.path.commonpath(ds.lbl_dirs)\n",
        "    print(commonpath) # общая часть папок, чтобы отобразить структуру\n",
        "    # выводим информацию в каждой папке\n",
        "    for lbl_dir in self.lbl_dirs:\n",
        "      lbl_lst = os.listdir(lbl_dir)\n",
        "      print('  |')\n",
        "      print('  +-- ',os.path.relpath(img_dir, start=cpath), ' [кол-во файлов - ', \n",
        "            len(lbl_lst), ', расширения: ', *{lbl_name.split('.')[-1] for lbl_name in lbl_lst if len(lbl_name.split('.'))>1},']', sep='')\n"
      ],
      "metadata": {
        "id": "rMI7g5IGS1uK"
      },
      "execution_count": null,
      "outputs": []
    },
    {
      "cell_type": "code",
      "source": [
        "# !cp /content/drive/MyDrive/Project_people/dataset_land/vis_drone19_sample.zip /content/"
      ],
      "metadata": {
        "id": "wj1Tm8SXTz6Q"
      },
      "execution_count": null,
      "outputs": []
    },
    {
      "cell_type": "code",
      "source": [
        "# !unzip -q vis_drone19_sample.zip -d /content"
      ],
      "metadata": {
        "id": "Y3z80hTRT-3o"
      },
      "execution_count": null,
      "outputs": []
    },
    {
      "cell_type": "markdown",
      "source": [
        "# Функциии"
      ],
      "metadata": {
        "id": "YH9xQuqDL6Dd"
      }
    },
    {
      "cell_type": "markdown",
      "source": [
        "**вывод несколько изображений из папки**"
      ],
      "metadata": {
        "id": "RZcnU3m-c8ti"
      }
    },
    {
      "cell_type": "code",
      "source": [
        "def draw_imgs_from_path(dir, num=8):\n",
        "  '''\n",
        "  Draws images from the folder as a grid (4 cols x num / 4 rows)\n",
        "  :dir: path to folder with images\n",
        "  :num: number of images (default = 16)\n",
        "  '''\n",
        "  # получим список с именами всех картинок, находящихся в папке pic\n",
        "  pictures = os.listdir(dir)\n",
        "  # Упорядочим список \n",
        "  pictures = sorted(pictures)\n",
        "  # Создадим фигуру размером 16 на 4 дюйма\n",
        "  pic_box = plt.figure(figsize=(32,5*(num//4+1)))\n",
        "  \n",
        "  # Поочередно считываем в переменную picture имя изображения из списка pictures. В переменную i записываем номер итерации\n",
        "  for i, picture in enumerate(pictures[:num]):\n",
        "      # считываем изображение в picture\n",
        "      picture = cv2.imread(os.path.join(dir,picture))\n",
        "      # конвертируем BGR изображение в RGB\n",
        "      picture = cv2.cvtColor(picture, cv2.COLOR_BGR2RGB)\n",
        "      # добавляем ячейку в pix_box для вывода текущего изображения\n",
        "      pic_box.add_subplot(num//4+1,4,i+1)\n",
        "      plt.title(pictures[i] + '\\n' + str(picture.shape))\n",
        "      plt.imshow(picture)\n",
        "      # отключаем отображение осей\n",
        "      plt.axis('off')\n",
        "  # выводим все созданные фигуры на экран\n",
        "  plt.show()    \n"
      ],
      "metadata": {
        "id": "A9ZNd3Rec8EY"
      },
      "execution_count": null,
      "outputs": []
    },
    {
      "cell_type": "code",
      "source": [
        "def check_img_dir(dir):\n",
        "  '''\n",
        "  Counts images in the folder\n",
        "  shows file extensions and a graph of image sizes\n",
        "  :dir: path to folder with images\n",
        "  '''\n",
        "  wh_lst = []   # массив для размеров изображений\n",
        "  img_lst = os.listdir(dir)\n",
        "  flag = True # флаг мониторинга контроля ожидания\n",
        "  print('Количество файлов в папке:', len(img_lst))\n",
        "  print('Расширения:', *{img_name.split('.')[-1] for img_name in img_lst})\n",
        "  new_time = time.time()\n",
        "  for i,img_name in enumerate(img_lst[:]):\n",
        "    tmp_img = cv2.imread(os.path.join(dir,img_name))\n",
        "    wh_lst.extend(tmp_img.shape[:2])\n",
        "    # print(img_name, tmp_img.shape[:2])\n",
        "    if flag and time.time()-new_time > 1:\n",
        "      print('\\n...идет обработка, подождите еще примерно', round((time.time()-new_time)*len(img_lst)/(i+1)), 'сек\\n')\n",
        "      flag = False\n",
        "\n",
        "  with plt.style.context('dark_background'):\n",
        "    plt.title('Размеры изображений')\n",
        "    # plt.plot(wh_lst[1::2], wh_lst[0::2],':o')\n",
        "    # plt.show()\n",
        "\n",
        "    x, y = wh_lst[1::2], wh_lst[0::2]\n",
        "    \n",
        "    wh_zip = list(zip(x,y)) # создаем пары, чтобы работать с ними в словаре\n",
        "    d = {d:wh_zip.count(d) for d in set(wh_zip)}\n",
        "    # print(d.values())\n",
        "    s = [s for s in d.values()]\n",
        "    # s = [20*4**n for n in range(len(x))]\n",
        "    plt.scatter([x for x,y in d.keys()],[y for x,y in d.keys()],s=s)\n",
        "    plt.show()\n",
        "\n",
        "\n",
        "# check_img_dir(ds.img_dirs[0])"
      ],
      "metadata": {
        "id": "YuuWLOuHDYfO"
      },
      "execution_count": null,
      "outputs": []
    },
    {
      "cell_type": "markdown",
      "source": [
        "### Для YOLOv5"
      ],
      "metadata": {
        "id": "FdmRsGoYNZCw"
      }
    },
    {
      "cell_type": "code",
      "source": [
        "# создание папок для yolo\n",
        "\n",
        "def create_dirs_for_yolo(root_dir):\n",
        "  '''\n",
        "  Creates root_dir/train/images, root_dir/train/labels and the same for /val\n",
        "  '''\n",
        "  os.makedirs(DIR_TRAIN_YOLO+'train/images/', exist_ok=True)\n",
        "  os.makedirs(DIR_TRAIN_YOLO+'train/labels/', exist_ok=True)\n",
        "\n",
        "  os.makedirs(DIR_TRAIN_YOLO+'val/images/', exist_ok=True)\n",
        "  os.makedirs(DIR_TRAIN_YOLO+'val/labels/', exist_ok=True)"
      ],
      "metadata": {
        "id": "3DCtYJj9McYs"
      },
      "execution_count": null,
      "outputs": []
    },
    {
      "cell_type": "code",
      "source": [
        "# создаем custom.yaml\n",
        "def create_yaml(fname='custom.yaml', classes={0:'person'}, main_dir='/content/dataset/', dirs=['train','val']):\n",
        "  '''\n",
        "  Creates custom.yaml for yolov5\n",
        "  :fname: yaml file name \n",
        "  :classes: dictionary of all classes (default {0:'person'})\n",
        "  :main_dir: path to root folder\n",
        "  :dirs: train and val subfolders\n",
        "  '''\n",
        "  file = open(fname, 'w')  # файл будет создан, если отсутствует\n",
        "\n",
        "  file.write(f\"train: {main_dir+dirs[0]}/\\n\")\n",
        "  file.write(f\"val: {main_dir+dirs[1]}/\\n\\n\")\n",
        "\n",
        "  file.write(f\"nc: {len(classes)}\\n\\n\")\n",
        "\n",
        "  file.write(f\"names: {list(classes.values())}\")\n",
        "  # names: ['person']\n",
        "  file.close()"
      ],
      "metadata": {
        "id": "Rm8agioTNYXN"
      },
      "execution_count": null,
      "outputs": []
    },
    {
      "cell_type": "code",
      "source": [
        "print('\\nфункции успешно загружены')\n",
        "print('используйте функции:')\n",
        "print('draw_imgs_from_path - для вывода сетки изображений из папки (файлы сортируются по имени)')\n",
        "print('check_img_dir - чтобы получить количество изображений, типы расширений и разброс размеров на графике')\n",
        "print('create_dirs_for_yolo - подготовить папки для датасета на котором будет обучаться yolo')\n",
        "print('create_yaml - для создания файла yaml yolo с описанием путей и классов')\n",
        "\n"
      ],
      "metadata": {
        "id": "R0mDjYYuOi5P"
      },
      "execution_count": null,
      "outputs": []
    }
  ]
}